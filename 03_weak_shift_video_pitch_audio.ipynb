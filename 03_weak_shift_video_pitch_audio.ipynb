{
  "nbformat": 4,
  "nbformat_minor": 0,
  "metadata": {
    "colab": {
      "provenance": []
    },
    "kernelspec": {
      "name": "python3",
      "display_name": "Python 3"
    },
    "language_info": {
      "name": "python"
    }
  },
  "cells": [
    {
      "cell_type": "markdown",
      "source": [
        "#Определение сдвига видео по корреляции высот тона аудиозаписей"
      ],
      "metadata": {
        "id": "Nac2EO1hpdj2"
      }
    },
    {
      "cell_type": "code",
      "source": [
        "# Подключение Google Диска\n",
        "from google.colab import drive\n",
        "drive.mount('/content/drive')"
      ],
      "metadata": {
        "id": "_pAt7BHW02y0"
      },
      "execution_count": null,
      "outputs": []
    },
    {
      "cell_type": "code",
      "source": [
        "import torch                          # Импортируем фреймворк PyTorch\n",
        "import torchaudio                     # Библиотека для работы с аудио в PyTorch\n",
        "import torchaudio.transforms as T     # Модуль трансформации(изменение громкости, скорости воспроизведения, изменение тональности и т.д.)\n",
        "import torchaudio.functional as F     # Модуль для выполнения различных операций с аудиофайлом(вычисление спектрограммы, преобразование мел-частоты и т.д.)\n",
        "\n",
        "import matplotlib.pyplot as plt       # Модуль для работы с графиками и изображениями\n",
        "from tqdm import tqdm"
      ],
      "metadata": {
        "id": "HRfNgcxzeofc"
      },
      "execution_count": null,
      "outputs": []
    },
    {
      "cell_type": "code",
      "source": [
        "# Загрузка аудио\n",
        "audio_1 = '/content/drive/My Drive/video/HEIAN_NIDAN_camera_1_120s_ffmpeg.wav'\n",
        "audio_2 = '/content/drive/My Drive/video/HEIAN_NIDAN_camera_2_120s_ffmpeg.wav'\n",
        "audio_3 = '/content/drive/My Drive/video/HEIAN_NIDAN_camera_3_120s_ffmpeg.wav'\n",
        "audio_4 = '/content/drive/My Drive/video/HEIAN_NIDAN_camera_4_120s_ffmpeg.wav'\n",
        "\n",
        "audio_list =[audio_1, audio_2, audio_3, audio_4]"
      ],
      "metadata": {
        "id": "T8gxhPGKjvFI"
      },
      "execution_count": null,
      "outputs": []
    },
    {
      "cell_type": "code",
      "source": [
        "#@title функция определяющая максимальную корреляцию по высоте тона (pitch)\n",
        "def audio_cor_pitch(audio_1_path, audio_2_path):\n",
        "    auidio_cor_dict = {}\n",
        "\n",
        "    # Загружаем звуковой сигнал и его частоту дискретизации.\n",
        "    SPEECH_WAVEFORM_1, SAMPLE_RATE_1 = torchaudio.load(audio_1_path)\n",
        "    SPEECH_WAVEFORM_2, SAMPLE_RATE_2 = torchaudio.load(audio_2_path)\n",
        "\n",
        "    # Преобразование тензоров в одномерные массивы\n",
        "    audio_1 = SPEECH_WAVEFORM_1.numpy()[0]  # Берем первый канал\n",
        "    audio_2 = SPEECH_WAVEFORM_2.numpy()[0]  # Берем первый канал\n",
        "\n",
        "    # Приведение массивов к одной длине\n",
        "    min_length = min(len(audio_1), len(audio_2))\n",
        "    audio_1 = audio_1[:min_length]\n",
        "    audio_2 = audio_2[:min_length]\n",
        "\n",
        "    # Параметры для сдвига\n",
        "    shift_step = int(SAMPLE_RATE_1 / 30)  # Сдвиг на 1/30 секунды в выборках\n",
        "    max_shift_samples = min_length  # Максимальный сдвиг в выборках\n",
        "    correlation_coefficients = []\n",
        "\n",
        "    # Вычисление коэффициента корреляции для каждого сдвига\n",
        "    for shift in tqdm(range(0, max_shift_samples + 1, shift_step), desc=\"Вычисление корреляции\"):\n",
        "        # Сдвиг audio_1 назад\n",
        "        shifted_audio_1 = np.zeros_like(audio_1)\n",
        "\n",
        "        if shift > 0:  # Если сдвиг больше 0\n",
        "            shifted_audio_1[shift:] = audio_1[:-shift]\n",
        "        else:  # Если сдвиг равен 0, просто копируем audio_1\n",
        "            shifted_audio_1 = audio_1.copy()\n",
        "\n",
        "        # Обрезка до пересечения\n",
        "        min_length_shifted = min(len(shifted_audio_1), len(audio_2))\n",
        "        shifted_audio_1 = shifted_audio_1[:min_length_shifted]\n",
        "        audio_2_trimmed = audio_2[:min_length_shifted]\n",
        "\n",
        "        # Вычисление коэффициента корреляции\n",
        "        correlation = np.corrcoef(shifted_audio_1, audio_2_trimmed)[0, 1]\n",
        "        correlation_coefficients.append(correlation)\n",
        "\n",
        "    # Убираем NaN значения\n",
        "    correlation_coefficients_np = np.array(correlation_coefficients)\n",
        "    valid_indices = np.where(~np.isnan(correlation_coefficients_np))[0]\n",
        "    valid_correlations = correlation_coefficients_np[valid_indices]\n",
        "\n",
        "    # Находим максимальное значение среди ненулевых\n",
        "    max_index = valid_indices[np.argmax(valid_correlations)]  # Индекс максимального значения\n",
        "    max_correlation = valid_correlations.max()  # Максимальное значение корреляции\n",
        "    max_shift = max_index * shift_step  # Соответствующий сдвиг в выборках\n",
        "\n",
        "    # Преобразование сдвига в секунды\n",
        "    max_shift_seconds = max_shift / SAMPLE_RATE_1\n",
        "\n",
        "    # Вывод результатов\n",
        "    print(f'Сдвиг {audio_1_path} относительно {audio_2_path}')\n",
        "    print(f\"Максимальная корреляция: {max_correlation:.4f}, Время сдвига: {max_shift_seconds:.4f} секунд\")\n",
        "    auidio_cor_dict[max_shift_seconds] = max_correlation\n",
        "\n",
        "    return auidio_cor_dict"
      ],
      "metadata": {
        "id": "j75kxtmdj6hv"
      },
      "execution_count": null,
      "outputs": []
    },
    {
      "cell_type": "code",
      "source": [
        "audio_pitch_dict = []\n",
        "for i in range(1, len(audio_list)):\n",
        "    audio_pitch_dict.append(audio_cor_pitch(audio_list[0], audio_list[i]))"
      ],
      "metadata": {
        "colab": {
          "base_uri": "https://localhost:8080/"
        },
        "id": "dcWsXmf3j6lY",
        "outputId": "4e1a7810-f825-4de3-f563-278941db1159"
      },
      "execution_count": null,
      "outputs": [
        {
          "output_type": "stream",
          "name": "stderr",
          "text": [
            "Вычисление корреляции: 100%|█████████▉| 3600/3601 [06:50<00:00,  8.93it/s]WARNING:py.warnings:/usr/local/lib/python3.10/dist-packages/numpy/lib/function_base.py:2897: RuntimeWarning: invalid value encountered in divide\n",
            "  c /= stddev[:, None]\n",
            "\n",
            "WARNING:py.warnings:/usr/local/lib/python3.10/dist-packages/numpy/lib/function_base.py:2898: RuntimeWarning: invalid value encountered in divide\n",
            "  c /= stddev[None, :]\n",
            "\n",
            "Вычисление корреляции: 100%|██████████| 3601/3601 [06:50<00:00,  8.77it/s]\n"
          ]
        },
        {
          "output_type": "stream",
          "name": "stdout",
          "text": [
            "Сдвиг /content/drive/My Drive/video/HEIAN_NIDAN_camera_1_120s_ffmpeg.wav относительно /content/drive/My Drive/video/HEIAN_NIDAN_camera_2_120s_ffmpeg.wav\n",
            "Максимальная корреляция: 0.0105, Время сдвига: 22.3667 секунд\n"
          ]
        },
        {
          "output_type": "stream",
          "name": "stderr",
          "text": [
            "Вычисление корреляции: 100%|██████████| 3601/3601 [07:05<00:00,  8.47it/s]\n"
          ]
        },
        {
          "output_type": "stream",
          "name": "stdout",
          "text": [
            "Сдвиг /content/drive/My Drive/video/HEIAN_NIDAN_camera_1_120s_ffmpeg.wav относительно /content/drive/My Drive/video/HEIAN_NIDAN_camera_3_120s_ffmpeg.wav\n",
            "Максимальная корреляция: 0.0144, Время сдвига: 30.7333 секунд\n"
          ]
        },
        {
          "output_type": "stream",
          "name": "stderr",
          "text": [
            "Вычисление корреляции: 100%|██████████| 3601/3601 [07:13<00:00,  8.30it/s]"
          ]
        },
        {
          "output_type": "stream",
          "name": "stdout",
          "text": [
            "Сдвиг /content/drive/My Drive/video/HEIAN_NIDAN_camera_1_120s_ffmpeg.wav относительно /content/drive/My Drive/video/HEIAN_NIDAN_camera_4_120s_ffmpeg.wav\n",
            "Максимальная корреляция: 0.0087, Время сдвига: 47.2667 секунд\n"
          ]
        },
        {
          "output_type": "stream",
          "name": "stderr",
          "text": [
            "\n"
          ]
        }
      ]
    },
    {
      "cell_type": "code",
      "source": [
        "audio_pitch_dict"
      ],
      "metadata": {
        "colab": {
          "base_uri": "https://localhost:8080/"
        },
        "id": "D-hjOVayj6qT",
        "outputId": "7b0e480f-f6a7-4bb3-e682-4d0f79a075c9"
      },
      "execution_count": null,
      "outputs": [
        {
          "output_type": "execute_result",
          "data": {
            "text/plain": [
              "[{22.366666666666667: 0.010534951817550839},\n",
              " {30.733333333333334: 0.014374703665161371},\n",
              " {47.266666666666666: 0.008696166186871888}]"
            ]
          },
          "metadata": {},
          "execution_count": 10
        }
      ]
    },
    {
      "cell_type": "code",
      "source": [
        "# Извлечение ключей\n",
        "keys_shift = [list(d.keys())[0] for d in audio_pitch_dict]"
      ],
      "metadata": {
        "id": "-AGdsnD2jvMg"
      },
      "execution_count": null,
      "outputs": []
    },
    {
      "cell_type": "code",
      "source": [
        "keys_shift"
      ],
      "metadata": {
        "colab": {
          "base_uri": "https://localhost:8080/"
        },
        "id": "BVvY4qP2kFX8",
        "outputId": "9b708d3d-0f3b-45b1-d89c-2660c446500d"
      },
      "execution_count": null,
      "outputs": [
        {
          "output_type": "execute_result",
          "data": {
            "text/plain": [
              "[22.366666666666667, 30.733333333333334, 47.266666666666666]"
            ]
          },
          "metadata": {},
          "execution_count": 12
        }
      ]
    },
    {
      "cell_type": "code",
      "source": [
        "# Создаем новый список, начиная с 0\n",
        "new_keys_shift = [0]\n",
        "new_keys_shift  = new_keys_shift + keys_shift"
      ],
      "metadata": {
        "id": "HVTVhgl7tu0w"
      },
      "execution_count": null,
      "outputs": []
    },
    {
      "cell_type": "code",
      "source": [
        "new_keys_shift"
      ],
      "metadata": {
        "colab": {
          "base_uri": "https://localhost:8080/"
        },
        "id": "Y863LtlPx4ze",
        "outputId": "d6fac133-8875-414b-f181-671f0075bec5"
      },
      "execution_count": null,
      "outputs": [
        {
          "output_type": "execute_result",
          "data": {
            "text/plain": [
              "[0, 22.366666666666667, 30.733333333333334, 47.266666666666666]"
            ]
          },
          "metadata": {},
          "execution_count": 18
        }
      ]
    },
    {
      "cell_type": "code",
      "source": [
        "# Загрузка видео\n",
        "video_1 = '/content/drive/My Drive/video/HEIAN_NIDAN_camera_1_120s_ffmpeg.mp4'\n",
        "video_2 = '/content/drive/My Drive/video/HEIAN_NIDAN_camera_2_120s_ffmpeg.mp4'\n",
        "video_3 = '/content/drive/My Drive/video/HEIAN_NIDAN_camera_3_120s_ffmpeg.mp4'\n",
        "video_4 = '/content/drive/My Drive/video/HEIAN_NIDAN_camera_4_120s_ffmpeg.mp4'\n",
        "\n",
        "input_video_list =[video_1, video_2, video_3, video_4]"
      ],
      "metadata": {
        "id": "GS9cvRedtu4p"
      },
      "execution_count": null,
      "outputs": []
    },
    {
      "cell_type": "markdown",
      "source": [],
      "metadata": {
        "id": "cVVSn8THvQN2"
      }
    },
    {
      "cell_type": "code",
      "source": [
        "# Исходяшее видео\n",
        "video_outpu_1 = '/content/drive/My Drive/video/HEIAN_NIDAN_camera_1_sync.mp4'\n",
        "video_outpu_2 = '/content/drive/My Drive/video/HEIAN_NIDAN_camera_2_sync.mp4'\n",
        "video_outpu_3 = '/content/drive/My Drive/video/HEIAN_NIDAN_camera_3_sync.mp4'\n",
        "video_outpu_4 = '/content/drive/My Drive/video/HEIAN_NIDAN_camera_4_sync.mp4'\n",
        "\n",
        "output_video_list =[video_outpu_1, video_outpu_2, video_outpu_3, video_outpu_4]"
      ],
      "metadata": {
        "id": "UNXxrPKptu8U"
      },
      "execution_count": null,
      "outputs": []
    },
    {
      "cell_type": "code",
      "source": [
        "import os\n",
        "def video_crop (input_video, output_video, time_from):\n",
        "    # Обрезаем видео с помощью ffmpeg, начиная с 0-й секунды и продолжительностью 1 минута\n",
        "    os.system(f\"ffmpeg -i '{input_video}' -ss {time_from} -t {len_video}-{time_from} -c copy '{output_video}'\")\n",
        "    print (f'Видео {output_video} обрезано от {time_from}')"
      ],
      "metadata": {
        "id": "S4cZpYr5wTe0"
      },
      "execution_count": null,
      "outputs": []
    },
    {
      "cell_type": "code",
      "source": [
        "import os\n",
        "import subprocess\n",
        "import json\n",
        "\n",
        "def get_video_length(input_video):\n",
        "    # Используем ffprobe для получения информации о видео\n",
        "    command = [\n",
        "        'ffprobe',\n",
        "        '-v', 'error',\n",
        "        '-show_entries', 'format=duration',\n",
        "        '-of', 'json',\n",
        "        input_video\n",
        "    ]\n",
        "    result = subprocess.run(command, stdout=subprocess.PIPE, stderr=subprocess.PIPE, text=True)\n",
        "    duration_info = json.loads(result.stdout)\n",
        "    return float(duration_info['format']['duration'])\n",
        "\n",
        "def video_crop(input_video, output_video, time_from):\n",
        "    # Получаем длину видео\n",
        "    len_video = get_video_length(input_video)\n",
        "\n",
        "    # Вычисляем длительность обрезки\n",
        "    duration = len_video - time_from\n",
        "\n",
        "    # Проверяем, что duration не отрицательное\n",
        "    if duration <= 0:\n",
        "        print(\"Ошибка: время обрезки выходит за пределы длины видео.\")\n",
        "        return\n",
        "\n",
        "    # Обрезаем видео с помощью ffmpeg\n",
        "    os.system(f\"ffmpeg -i '{input_video}' -ss {time_from} -t {duration} -c copy '{output_video}'\")\n",
        "    print(f'Видео {output_video} обрезано от {time_from} до {len_video}')"
      ],
      "metadata": {
        "id": "0ZRO8uyj0akF"
      },
      "execution_count": null,
      "outputs": []
    },
    {
      "cell_type": "code",
      "source": [
        "#Обрезаем все видео\n",
        "for i in range (len(input_video_list)):\n",
        "    video_crop (input_video_list[i], output_video_list[i], new_keys_shift[i])"
      ],
      "metadata": {
        "colab": {
          "base_uri": "https://localhost:8080/"
        },
        "id": "capEzceQwTpq",
        "outputId": "903d7859-2dd5-440b-9601-89fc40664b8e"
      },
      "execution_count": null,
      "outputs": [
        {
          "output_type": "stream",
          "name": "stdout",
          "text": [
            "Видео /content/drive/My Drive/video/HEIAN_NIDAN_camera_1_sync.mp4 обрезано от 0 до 120.029\n",
            "Видео /content/drive/My Drive/video/HEIAN_NIDAN_camera_2_sync.mp4 обрезано от 22.366666666666667 до 120.002\n",
            "Видео /content/drive/My Drive/video/HEIAN_NIDAN_camera_3_sync.mp4 обрезано от 30.733333333333334 до 120.024\n",
            "Видео /content/drive/My Drive/video/HEIAN_NIDAN_camera_4_sync.mp4 обрезано от 47.266666666666666 до 120.024\n"
          ]
        }
      ]
    },
    {
      "cell_type": "code",
      "source": [
        "!pip install -q moviepy"
      ],
      "metadata": {
        "id": "kRkUSlwld15s"
      },
      "execution_count": null,
      "outputs": []
    },
    {
      "cell_type": "code",
      "source": [
        "!pip install --upgrade -q moviepy"
      ],
      "metadata": {
        "id": "As8liu_R4Twi",
        "colab": {
          "base_uri": "https://localhost:8080/"
        },
        "outputId": "6b6d6ee7-a1ea-418a-d010-46ef869f4c05"
      },
      "execution_count": null,
      "outputs": [
        {
          "output_type": "stream",
          "name": "stdout",
          "text": [
            "\u001b[2K   \u001b[90m━━━━━━━━━━━━━━━━━━━━━━━━━━━━━━━━━━━━━━━━\u001b[0m \u001b[32m123.0/123.0 kB\u001b[0m \u001b[31m4.5 MB/s\u001b[0m eta \u001b[36m0:00:00\u001b[0m\n",
            "\u001b[2K   \u001b[90m━━━━━━━━━━━━━━━━━━━━━━━━━━━━━━━━━━━━━━━━\u001b[0m \u001b[32m4.5/4.5 MB\u001b[0m \u001b[31m51.8 MB/s\u001b[0m eta \u001b[36m0:00:00\u001b[0m\n",
            "\u001b[?25h"
          ]
        }
      ]
    },
    {
      "cell_type": "code",
      "source": [
        "import numpy as np\n",
        "import librosa\n",
        "from moviepy.editor import VideoFileClip, clips_array"
      ],
      "metadata": {
        "id": "3haIwz6o4V_L",
        "colab": {
          "base_uri": "https://localhost:8080/"
        },
        "outputId": "8baa0ea5-d249-4e23-9697-859a4a049f47"
      },
      "execution_count": null,
      "outputs": [
        {
          "output_type": "stream",
          "name": "stderr",
          "text": [
            "WARNING:py.warnings:/usr/local/lib/python3.10/dist-packages/moviepy/video/io/sliders.py:61: SyntaxWarning: \"is\" with a literal. Did you mean \"==\"?\n",
            "  if event.key is 'enter':\n",
            "\n"
          ]
        }
      ]
    },
    {
      "cell_type": "code",
      "source": [
        "# Исходяшее видео\n",
        "video_outpu_1 = '/content/drive/My Drive/video/HEIAN_NIDAN_camera_1_sync.mp4'\n",
        "video_outpu_2 = '/content/drive/My Drive/video/HEIAN_NIDAN_camera_2_sync.mp4'\n",
        "video_outpu_3 = '/content/drive/My Drive/video/HEIAN_NIDAN_camera_3_sync.mp4'\n",
        "video_outpu_4 = '/content/drive/My Drive/video/HEIAN_NIDAN_camera_4_sync.mp4'\n",
        "\n",
        "output_video_list =[video_outpu_1, video_outpu_2, video_outpu_3, video_outpu_4]\n",
        "\n",
        "\n",
        "video_clips = [VideoFileClip(video_outpu_1), VideoFileClip(video_outpu_2), VideoFileClip(video_outpu_3), VideoFileClip(video_outpu_4)]\n",
        "\n",
        "\n",
        "# Создание плитки из видео\n",
        "final_video = clips_array([[video_clips[0], video_clips[1]],\n",
        "                            [video_clips[2], video_clips[3]]])\n",
        "\n",
        "# Сохранение и вывод финального видео\n",
        "final_video_path = '/content/drive/My Drive/video/pose/final_video_14.mp4'\n",
        "final_video.write_videofile(final_video_path, codec='libx264')\n"
      ],
      "metadata": {
        "id": "7cBjqw0214ub",
        "colab": {
          "base_uri": "https://localhost:8080/"
        },
        "outputId": "12ed1e29-26b0-42a0-b31e-e8f49415e34e"
      },
      "execution_count": null,
      "outputs": [
        {
          "output_type": "stream",
          "name": "stdout",
          "text": [
            "Moviepy - Building video /content/drive/My Drive/video/pose/final_video_14.mp4.\n",
            "MoviePy - Writing audio in final_video_14TEMP_MPY_wvf_snd.mp3\n"
          ]
        },
        {
          "output_type": "stream",
          "name": "stderr",
          "text": []
        },
        {
          "output_type": "stream",
          "name": "stdout",
          "text": [
            "MoviePy - Done.\n",
            "Moviepy - Writing video /content/drive/My Drive/video/pose/final_video_14.mp4\n",
            "\n"
          ]
        },
        {
          "output_type": "stream",
          "name": "stderr",
          "text": [
            "t:  61%|██████    | 2183/3601 [34:05<21:29,  1.10it/s, now=None]WARNING:py.warnings:/usr/local/lib/python3.10/dist-packages/moviepy/video/io/ffmpeg_reader.py:123: UserWarning: Warning: in file /content/drive/My Drive/video/HEIAN_NIDAN_camera_4_sync.mp4, 6220800 bytes wanted but 0 bytes read,at frame 2182/2183, at time 72.73/72.76 sec. Using the last valid frame instead.\n",
            "  \"stdin\": sp.DEVNULL,\n",
            "\n",
            "t:  81%|████████▏ | 2930/3601 [43:05<05:19,  2.10it/s, now=None]WARNING:py.warnings:/usr/local/lib/python3.10/dist-packages/moviepy/video/io/ffmpeg_reader.py:123: UserWarning: Warning: in file /content/drive/My Drive/video/HEIAN_NIDAN_camera_2_sync.mp4, 6220800 bytes wanted but 0 bytes read,at frame 2912/2913, at time 97.62/97.64 sec. Using the last valid frame instead.\n",
            "  \"stdin\": sp.DEVNULL,\n",
            "\n"
          ]
        },
        {
          "output_type": "stream",
          "name": "stdout",
          "text": [
            "Moviepy - Done !\n",
            "Moviepy - video ready /content/drive/My Drive/video/pose/final_video_14.mp4\n"
          ]
        }
      ]
    },
    {
      "cell_type": "code",
      "source": [],
      "metadata": {
        "id": "x5-ZZ-i0kKR1"
      },
      "execution_count": null,
      "outputs": []
    }
  ]
}